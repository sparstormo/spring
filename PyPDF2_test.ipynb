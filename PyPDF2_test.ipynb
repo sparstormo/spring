{
 "cells": [
  {
   "cell_type": "code",
   "execution_count": 1,
   "metadata": {},
   "outputs": [
    {
     "data": {
      "text/plain": [
       "74"
      ]
     },
     "execution_count": 1,
     "metadata": {},
     "output_type": "execute_result"
    }
   ],
   "source": [
    "import PyPDF2\n",
    "pdfFileObj = open('141-orig_c07d.pdf', 'rb')\n",
    "pdfReader = PyPDF2.PdfFileReader(pdfFileObj)\n",
    "pdfReader.numPages"
   ]
  },
  {
   "cell_type": "code",
   "execution_count": 2,
   "metadata": {},
   "outputs": [
    {
     "data": {
      "text/plain": [
       "\"    \\n  \\n  \\n  \\n  \\n  \\n           \\n  \\n  \\n  \\n  \\n  \\n           \\n  \\n  \\n  \\n  \\n  \\n  \\n  \\n  \\n  \\n           \\n               1  \\n             2  \\n             3  \\n             4  \\n             5  \\n             6  \\n             7  \\n             8  \\n             9  \\n            10  \\n            11  \\n            12  \\n            13  \\n            14  \\n            15  \\n            16  \\n            17  \\n            18  \\n            19  \\n            20  \\n            21  \\n            22  \\n            23  \\n            24  \\n            25                                                                  10 Official - Subject to Final Review˜ apportionment under the reservoir. And as New˜ \\nMexico explained in -- in its -- its brief˜ \\nopposing Texas's motion for leave to even file˜ \\nthis complaint in the first place, you need the˜ \\nUnited States to be bound by that decree˜ \\nbecause we are the entity that releases that˜ \\nwater.˜ Additionally, we have interests that˜ are at stake in delivering water to Mexico˜ \\npursuant to a treaty that makes sense, where -˛\\nwhere we would like to be a party presenting˜ \\nthe federal interests, rather than being an˜ \\namicus.˜ CHIEF JUSTICE ROBERTS: This is a˜ \\npretty basic question I suppose I should know,˜ \\nbut can you compromise state rights in the˜ \\nnegotiation and determination of a treaty?˜ \\nCould you negotiate a treaty with Mexico that˜ \\nsays we're going to give you this many˜ \\nacre-feet of water that is already appropriated˜ \\nsomewhere else? And then that treaty˜ \\n\\nobligation trumps whatever the prior˜ \\nallocations are?˜ MS. O'CONNELL: I'm not totally sure.˜ \\nI -- I think probably yes. In this case, it˜ \\nHeritage Reporting Corporation˜\""
      ]
     },
     "execution_count": 2,
     "metadata": {},
     "output_type": "execute_result"
    }
   ],
   "source": [
    "pageObj = pdfReader.getPage(10)\n",
    "pageObj.extractText()"
   ]
  },
  {
   "cell_type": "code",
   "execution_count": null,
   "metadata": {
    "collapsed": true
   },
   "outputs": [],
   "source": []
  }
 ],
 "metadata": {
  "kernelspec": {
   "display_name": "Python 3",
   "language": "python",
   "name": "python3"
  },
  "language_info": {
   "codemirror_mode": {
    "name": "ipython",
    "version": 3
   },
   "file_extension": ".py",
   "mimetype": "text/x-python",
   "name": "python",
   "nbconvert_exporter": "python",
   "pygments_lexer": "ipython3",
   "version": "3.6.3"
  }
 },
 "nbformat": 4,
 "nbformat_minor": 2
}
